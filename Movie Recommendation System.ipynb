{
  "nbformat": 4,
  "nbformat_minor": 0,
  "metadata": {
    "colab": {
      "name": "Research Project Task.ipynb",
      "provenance": [],
      "authorship_tag": "ABX9TyOhE/V3zEDtAFAGcmL46DCW",
      "include_colab_link": true
    },
    "kernelspec": {
      "name": "python3",
      "display_name": "Python 3"
    },
    "language_info": {
      "name": "python"
    }
  },
  "cells": [
    {
      "cell_type": "markdown",
      "metadata": {
        "id": "view-in-github",
        "colab_type": "text"
      },
      "source": [
        "<a href=\"https://colab.research.google.com/github/AnushkaBhatnagar/Python-Projects/blob/main/Research_Project_Task.ipynb\" target=\"_parent\"><img src=\"https://colab.research.google.com/assets/colab-badge.svg\" alt=\"Open In Colab\"/></a>"
      ]
    },
    {
      "cell_type": "code",
      "metadata": {
        "id": "o9sWnVbetTTD"
      },
      "source": [
        "import numpy as np\n",
        "import pandas as pd\n",
        "import matplotlib.pyplot as plt\n",
        "%matplotlib inline\n",
        "\n",
        "movies=pd.read_csv(\"/content/movies.csv\")\n",
        "ratings=pd.read_csv(\"/content/ratings.csv\")"
      ],
      "execution_count": null,
      "outputs": []
    },
    {
      "cell_type": "markdown",
      "metadata": {
        "id": "70-pDlVibahJ"
      },
      "source": [
        "Following is the merged dataframe we obtain from combining movie names and their ratings (through movieId):"
      ]
    },
    {
      "cell_type": "code",
      "metadata": {
        "colab": {
          "base_uri": "https://localhost:8080/",
          "height": 206
        },
        "id": "56IG-O4FZNub",
        "outputId": "421ca364-0b67-4032-9af7-a3fe55313ee9"
      },
      "source": [
        "final=pd.merge(ratings, movies, on='movieId')\n",
        "final.head()"
      ],
      "execution_count": null,
      "outputs": [
        {
          "output_type": "execute_result",
          "data": {
            "text/html": [
              "<div>\n",
              "<style scoped>\n",
              "    .dataframe tbody tr th:only-of-type {\n",
              "        vertical-align: middle;\n",
              "    }\n",
              "\n",
              "    .dataframe tbody tr th {\n",
              "        vertical-align: top;\n",
              "    }\n",
              "\n",
              "    .dataframe thead th {\n",
              "        text-align: right;\n",
              "    }\n",
              "</style>\n",
              "<table border=\"1\" class=\"dataframe\">\n",
              "  <thead>\n",
              "    <tr style=\"text-align: right;\">\n",
              "      <th></th>\n",
              "      <th>userId</th>\n",
              "      <th>movieId</th>\n",
              "      <th>rating</th>\n",
              "      <th>timestamp</th>\n",
              "      <th>title</th>\n",
              "      <th>genres</th>\n",
              "    </tr>\n",
              "  </thead>\n",
              "  <tbody>\n",
              "    <tr>\n",
              "      <th>0</th>\n",
              "      <td>1</td>\n",
              "      <td>1</td>\n",
              "      <td>4.0</td>\n",
              "      <td>964982703</td>\n",
              "      <td>Toy Story (1995)</td>\n",
              "      <td>Adventure|Animation|Children|Comedy|Fantasy</td>\n",
              "    </tr>\n",
              "    <tr>\n",
              "      <th>1</th>\n",
              "      <td>5</td>\n",
              "      <td>1</td>\n",
              "      <td>4.0</td>\n",
              "      <td>847434962</td>\n",
              "      <td>Toy Story (1995)</td>\n",
              "      <td>Adventure|Animation|Children|Comedy|Fantasy</td>\n",
              "    </tr>\n",
              "    <tr>\n",
              "      <th>2</th>\n",
              "      <td>7</td>\n",
              "      <td>1</td>\n",
              "      <td>4.5</td>\n",
              "      <td>1106635946</td>\n",
              "      <td>Toy Story (1995)</td>\n",
              "      <td>Adventure|Animation|Children|Comedy|Fantasy</td>\n",
              "    </tr>\n",
              "    <tr>\n",
              "      <th>3</th>\n",
              "      <td>15</td>\n",
              "      <td>1</td>\n",
              "      <td>2.5</td>\n",
              "      <td>1510577970</td>\n",
              "      <td>Toy Story (1995)</td>\n",
              "      <td>Adventure|Animation|Children|Comedy|Fantasy</td>\n",
              "    </tr>\n",
              "    <tr>\n",
              "      <th>4</th>\n",
              "      <td>17</td>\n",
              "      <td>1</td>\n",
              "      <td>4.5</td>\n",
              "      <td>1305696483</td>\n",
              "      <td>Toy Story (1995)</td>\n",
              "      <td>Adventure|Animation|Children|Comedy|Fantasy</td>\n",
              "    </tr>\n",
              "  </tbody>\n",
              "</table>\n",
              "</div>"
            ],
            "text/plain": [
              "   userId  ...                                       genres\n",
              "0       1  ...  Adventure|Animation|Children|Comedy|Fantasy\n",
              "1       5  ...  Adventure|Animation|Children|Comedy|Fantasy\n",
              "2       7  ...  Adventure|Animation|Children|Comedy|Fantasy\n",
              "3      15  ...  Adventure|Animation|Children|Comedy|Fantasy\n",
              "4      17  ...  Adventure|Animation|Children|Comedy|Fantasy\n",
              "\n",
              "[5 rows x 6 columns]"
            ]
          },
          "metadata": {},
          "execution_count": 3
        }
      ]
    },
    {
      "cell_type": "markdown",
      "metadata": {
        "id": "_UEsdVdZbzDK"
      },
      "source": [
        "The movie names are grouped by the average of their total ratings on a scale of 5, and sorted in descending order as follows:"
      ]
    },
    {
      "cell_type": "code",
      "metadata": {
        "colab": {
          "base_uri": "https://localhost:8080/"
        },
        "id": "ehjO3p8qZKAN",
        "outputId": "eaaa30fc-2f19-4eae-efcf-9843caab8512"
      },
      "source": [
        "final.groupby('title')['rating'].mean().sort_values(ascending=False).head()"
      ],
      "execution_count": null,
      "outputs": [
        {
          "output_type": "execute_result",
          "data": {
            "text/plain": [
              "title\n",
              "Karlson Returns (1970)                           5.0\n",
              "Winter in Prostokvashino (1984)                  5.0\n",
              "My Love (2006)                                   5.0\n",
              "Sorority House Massacre II (1990)                5.0\n",
              "Winnie the Pooh and the Day of Concern (1972)    5.0\n",
              "Name: rating, dtype: float64"
            ]
          },
          "metadata": {},
          "execution_count": 4
        }
      ]
    },
    {
      "cell_type": "markdown",
      "metadata": {
        "id": "9bqysLsQcHwc"
      },
      "source": [
        "The above data gives us the average ratings for each movie. However, this way, a movie can top the list even if it has been rated in full by just one user. Thus, this can be misleading. So, we group the movies by the total 'number' of ratings each received, and are sorted in descending order. This can also be understood as the number of times a movie name occured in the dataset. For example, we see that Forrest Gump (1994) was rated by maximum number of users (329):"
      ]
    },
    {
      "cell_type": "code",
      "metadata": {
        "colab": {
          "base_uri": "https://localhost:8080/"
        },
        "id": "8FLc1IbxwOQM",
        "outputId": "8136dc1c-75d0-4457-ffcf-5634e4a4ad1d"
      },
      "source": [
        "final.groupby('title')['rating'].count().sort_values(ascending=False).head()"
      ],
      "execution_count": null,
      "outputs": [
        {
          "output_type": "execute_result",
          "data": {
            "text/plain": [
              "title\n",
              "Forrest Gump (1994)                 329\n",
              "Shawshank Redemption, The (1994)    317\n",
              "Pulp Fiction (1994)                 307\n",
              "Silence of the Lambs, The (1991)    279\n",
              "Matrix, The (1999)                  278\n",
              "Name: rating, dtype: int64"
            ]
          },
          "metadata": {},
          "execution_count": 5
        }
      ]
    },
    {
      "cell_type": "markdown",
      "metadata": {
        "id": "KQvhchmCeAa9"
      },
      "source": [
        "We create a dataframe that contains both the attributes (average ratings and number of ratings):"
      ]
    },
    {
      "cell_type": "code",
      "metadata": {
        "colab": {
          "base_uri": "https://localhost:8080/",
          "height": 237
        },
        "id": "bRyyf0yKwgZG",
        "outputId": "3e1e7500-51fb-4ff6-8907-d8e27fd6e40c"
      },
      "source": [
        "MeanVoteCount=pd.DataFrame(final.groupby('title')['rating'].mean())\n",
        "MeanVoteCount['rating_counts'] = pd.DataFrame(final.groupby('title')['rating'].count())\n",
        "MeanVoteCount.head()"
      ],
      "execution_count": null,
      "outputs": [
        {
          "output_type": "execute_result",
          "data": {
            "text/html": [
              "<div>\n",
              "<style scoped>\n",
              "    .dataframe tbody tr th:only-of-type {\n",
              "        vertical-align: middle;\n",
              "    }\n",
              "\n",
              "    .dataframe tbody tr th {\n",
              "        vertical-align: top;\n",
              "    }\n",
              "\n",
              "    .dataframe thead th {\n",
              "        text-align: right;\n",
              "    }\n",
              "</style>\n",
              "<table border=\"1\" class=\"dataframe\">\n",
              "  <thead>\n",
              "    <tr style=\"text-align: right;\">\n",
              "      <th></th>\n",
              "      <th>rating</th>\n",
              "      <th>rating_counts</th>\n",
              "    </tr>\n",
              "    <tr>\n",
              "      <th>title</th>\n",
              "      <th></th>\n",
              "      <th></th>\n",
              "    </tr>\n",
              "  </thead>\n",
              "  <tbody>\n",
              "    <tr>\n",
              "      <th>'71 (2014)</th>\n",
              "      <td>4.0</td>\n",
              "      <td>1</td>\n",
              "    </tr>\n",
              "    <tr>\n",
              "      <th>'Hellboy': The Seeds of Creation (2004)</th>\n",
              "      <td>4.0</td>\n",
              "      <td>1</td>\n",
              "    </tr>\n",
              "    <tr>\n",
              "      <th>'Round Midnight (1986)</th>\n",
              "      <td>3.5</td>\n",
              "      <td>2</td>\n",
              "    </tr>\n",
              "    <tr>\n",
              "      <th>'Salem's Lot (2004)</th>\n",
              "      <td>5.0</td>\n",
              "      <td>1</td>\n",
              "    </tr>\n",
              "    <tr>\n",
              "      <th>'Til There Was You (1997)</th>\n",
              "      <td>4.0</td>\n",
              "      <td>2</td>\n",
              "    </tr>\n",
              "  </tbody>\n",
              "</table>\n",
              "</div>"
            ],
            "text/plain": [
              "                                         rating  rating_counts\n",
              "title                                                         \n",
              "'71 (2014)                                  4.0              1\n",
              "'Hellboy': The Seeds of Creation (2004)     4.0              1\n",
              "'Round Midnight (1986)                      3.5              2\n",
              "'Salem's Lot (2004)                         5.0              1\n",
              "'Til There Was You (1997)                   4.0              2"
            ]
          },
          "metadata": {},
          "execution_count": 3
        }
      ]
    },
    {
      "cell_type": "markdown",
      "metadata": {
        "id": "s6XFh3Vl0ebR"
      },
      "source": [
        "We are plotting a histogram for the number of ratings. From the following output we can see that majority of the movies have received less than 50 ratings, while very few have received over 100 ratings:"
      ]
    },
    {
      "cell_type": "code",
      "metadata": {
        "colab": {
          "base_uri": "https://localhost:8080/",
          "height": 391
        },
        "id": "n3Y-Ss1AzbfI",
        "outputId": "3aab8d8c-54ac-4c5f-9982-6969b52e2735"
      },
      "source": [
        "plt.figure(figsize=(8,6))\n",
        "MeanVoteCount['rating_counts'].hist(bins=50)"
      ],
      "execution_count": null,
      "outputs": [
        {
          "output_type": "execute_result",
          "data": {
            "text/plain": [
              "<matplotlib.axes._subplots.AxesSubplot at 0x7f6a6ad0d6d0>"
            ]
          },
          "metadata": {},
          "execution_count": 4
        },
        {
          "output_type": "display_data",
          "data": {
            "image/png": "[encoded data removed]",
            "text/plain": [
              "<Figure size 576x432 with 1 Axes>"
            ]
          },
          "metadata": {
            "needs_background": "light"
          }
        }
      ]
    },
    {
      "cell_type": "markdown",
      "metadata": {
        "id": "6Q4O3omr2meu"
      },
      "source": [
        "We are plotting a histogram for average ratings. From the following output we can see that there may be outliers in our data as it seems to have a weak normal distribution:"
      ]
    },
    {
      "cell_type": "code",
      "metadata": {
        "colab": {
          "base_uri": "https://localhost:8080/",
          "height": 393
        },
        "id": "ThMb3m1a00Yj",
        "outputId": "a5f5f140-a263-4333-ddc9-8931ba371d11"
      },
      "source": [
        "plt.figure(figsize=(8,6))\n",
        "MeanVoteCount['rating'].hist(bins=50)"
      ],
      "execution_count": null,
      "outputs": [
        {
          "output_type": "execute_result",
          "data": {
            "text/plain": [
              "<matplotlib.axes._subplots.AxesSubplot at 0x7f6a6abb8d90>"
            ]
          },
          "metadata": {},
          "execution_count": 5
        },
        {
          "output_type": "display_data",
          "data": {
            "image/png": "[encoded data removed]",
            "text/plain": [
              "<Figure size 576x432 with 1 Axes>"
            ]
          },
          "metadata": {
            "needs_background": "light"
          }
        }
      ]
    },
    {
      "cell_type": "markdown",
      "metadata": {
        "id": "W-gPgmsp31NB"
      },
      "source": [
        "The plot below shows us that movies with average higher ratings have more 'number' of ratings as well. A well-rated and well-known movie is generally watched by more number of people."
      ]
    },
    {
      "cell_type": "code",
      "metadata": {
        "colab": {
          "base_uri": "https://localhost:8080/",
          "height": 476
        },
        "id": "FFMoEgMt3Dpq",
        "outputId": "382e90b2-09a0-48f0-81ca-789fda1bbe08"
      },
      "source": [
        "import seaborn\n",
        "plt.figure(figsize=(8,6))\n",
        "seaborn.jointplot(x='rating', y='rating_counts', data=MeanVoteCount, alpha=0.4)"
      ],
      "execution_count": null,
      "outputs": [
        {
          "output_type": "execute_result",
          "data": {
            "text/plain": [
              "<seaborn.axisgrid.JointGrid at 0x7f6a6a700c10>"
            ]
          },
          "metadata": {},
          "execution_count": 6
        },
        {
          "output_type": "display_data",
          "data": {
            "text/plain": [
              "<Figure size 576x432 with 0 Axes>"
            ]
          },
          "metadata": {}
        },
        {
          "output_type": "display_data",
          "data": {
            "image/png": "[encoded data removed]",
            "text/plain": [
              "<Figure size 432x432 with 3 Axes>"
            ]
          },
          "metadata": {
            "needs_background": "light"
          }
        }
      ]
    },
    {
      "cell_type": "markdown",
      "metadata": {
        "id": "QtWxHXkleslJ"
      },
      "source": [
        "Below, when the user enters a movie name, top-10 matches for the movie are shown, along with the number of voters it has. The correlation for each movie basically represents the percentage match. For instance, correlation of 1.00 translates that this movie and the movie entered by the user match by 100%:"
      ]
    },
    {
      "cell_type": "code",
      "metadata": {
        "colab": {
          "base_uri": "https://localhost:8080/"
        },
        "id": "z3rTXd_FHQZ0",
        "outputId": "5f427afb-028d-4eb0-9e9c-490e8bb91f25"
      },
      "source": [
        "userrating=final.pivot_table(index='userId', columns='title', values='rating')\n",
        "f=input('Enter a Movie Name: ')\n",
        "try:\n",
        "    userrating= userrating[userrating.get(f).notnull()]\n",
        "    if(len(userrating)==1):\n",
        "        print('Sorry! Data available with us is insufficient to make a recommendation for the entered movie.')\n",
        "    else:\n",
        "        userrating= userrating.dropna(axis='columns', thresh=2)\n",
        "        relatedmovies=userrating.corrwith(userrating[f])\n",
        "        cor=pd.DataFrame(relatedmovies, columns=['Correlation'])\n",
        "        cor.dropna(inplace=True)\n",
        "        cor=cor.sort_values('Correlation', ascending=False)\n",
        "        cor=cor.join(MeanVoteCount['rating_counts'])\n",
        "        cor=cor[cor['rating_counts']>50].sort_values('Correlation', ascending=False)\n",
        "        print(\"\\nRecommended Movies based your entered choice are:\\n\")\n",
        "        print(cor.head(10))\n",
        "except:\n",
        "    print('Sorry! Movie entered is not available with us.')"
      ],
      "execution_count": null,
      "outputs": [
        {
          "output_type": "stream",
          "name": "stdout",
          "text": [
            "Enter a Movie Name: Million Dollar Baby (2004)\n",
            "\n",
            "Recommended Movies based your entered choice are:\n",
            "\n",
            "                            Correlation  rating_counts\n",
            "title                                                 \n",
            "Million Dollar Baby (2004)     1.000000             52\n",
            "In the Line of Fire (1993)     0.827349             70\n",
            "Grosse Pointe Blank (1997)     0.818388             59\n",
            "Notting Hill (1999)            0.779370             56\n",
            "Election (1999)                0.771969             56\n",
            "Army of Darkness (1993)        0.767141             51\n",
            "High Fidelity (2000)           0.744291             75\n",
            "Up (2009)                      0.729494            105\n",
            "Jumanji (1995)                 0.716712            110\n",
            "Pretty Woman (1990)            0.705978            135\n"
          ]
        }
      ]
    }
  ]
}
